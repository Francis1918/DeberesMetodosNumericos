{
 "cells": [
  {
   "cell_type": "markdown",
   "metadata": {
    "vscode": {
     "languageId": "raw"
    }
   },
   "source": [
    "\n",
    " NOMBRE: Francis Bravo\n",
    "\n",
    "## [Deber 03] Algoritmos y convergencia"
   ]
  },
  {
   "cell_type": "markdown",
   "metadata": {},
   "source": [
    "Utilice aritmética de corte de tres dígitos para calcular las siguientes sumas.  \n",
    "Para cada parte, ¿qué método es más preciso y por qué?\n",
    "\n",
    "a. \\(\\sum_{i=1}^{10} \\left(\\frac{1}{i^2}\\right)\\)  \n",
    "Primero por \\(\\frac{1}{1} + \\frac{1}{4} + \\cdots + \\frac{1}{100}\\)  \n",
    "y luego por \\(\\frac{1}{100} + \\frac{1}{81} + \\cdots + \\frac{1}{1}\\)\n",
    "\n",
    "b. \\(\\sum_{i=1}^{10} \\left(\\frac{1}{i^3}\\right)\\)  \n",
    "Primero por \\(\\frac{1}{1} + \\frac{1}{8} + \\frac{1}{27} + \\cdots + \\frac{1}{1000}\\)  \n",
    "y luego por \\(\\frac{1}{1000} + \\frac{1}{729} + \\cdots + \\frac{1}{1}\\)\n"
   ]
  },
  {
   "cell_type": "code",
   "execution_count": 31,
   "metadata": {},
   "outputs": [
    {
     "name": "stdout",
     "output_type": "stream",
     "text": [
      "Suma en orden ascendente (tres dígitos): 1.55\n",
      "Suma en orden descendente (tres dígitos): 1.55\n"
     ]
    }
   ],
   "source": [
    "def truncate_to_three_digits(value):\n",
    "    return float(f\"{value:.3g}\")\n",
    "\n",
    "def sum_ascending():\n",
    "    terms = [1 / i**2 for i in range(1, 11)]\n",
    "    truncated_sum = 0\n",
    "    for term in terms:\n",
    "        truncated_sum = truncate_to_three_digits(truncated_sum + truncate_to_three_digits(term))\n",
    "    return truncated_sum\n",
    "\n",
    "def sum_descending():\n",
    "    terms = [1 / i**2 for i in range(1, 11)][::-1]\n",
    "    truncated_sum = 0\n",
    "    for term in terms:\n",
    "        truncated_sum = truncate_to_three_digits(truncated_sum + truncate_to_three_digits(term))\n",
    "    return truncated_sum\n",
    "\n",
    "ascending_sum = sum_ascending()\n",
    "descending_sum = sum_descending()\n",
    "\n",
    "print(f\"Suma en orden ascendente (tres dígitos): {ascending_sum}\")\n",
    "print(f\"Suma en orden descendente (tres dígitos): {descending_sum}\")"
   ]
  },
  {
   "cell_type": "code",
   "execution_count": 32,
   "metadata": {},
   "outputs": [
    {
     "name": "stdout",
     "output_type": "stream",
     "text": [
      "Suma en orden ascendente: 1.1975319856741933\n",
      "Suma en orden descendente: 1.1975319856741933\n"
     ]
    }
   ],
   "source": [
    "def sum_ascending_cubic():\n",
    "    terms = [1 / i**3 for i in range(1, 11)]\n",
    "    return sum(terms)\n",
    "\n",
    "def sum_descending_cubic():\n",
    "    terms = [1 / i**3 for i in range(1, 11)][::-1]\n",
    "    return sum(terms)\n",
    "\n",
    "ascending_sum_cubic = sum_ascending_cubic()\n",
    "descending_sum_cubic = sum_descending_cubic()\n",
    "\n",
    "print(f\"Suma en orden ascendente: {ascending_sum_cubic}\")\n",
    "print(f\"Suma en orden descendente: {descending_sum_cubic}\")"
   ]
  },
  {
   "cell_type": "markdown",
   "metadata": {},
   "source": [
    "### 1. Serie de Maclaurin para la función arcotangente\n",
    "\n",
    "La serie de Maclaurin para la función arcotangente converge para \\( -1 < x \\leq 1 \\) y está dada por:\n",
    "\n",
    "$$\n",
    "\\arctan(x) = \\lim_{n \\to \\infty} P_n(x) = \\lim_{n \\to \\infty} \\sum_{i=1}^{n} \\frac{(-1)^{i+1} \\cdot x^{2i-1}}{2i - 1}\n",
    "$$\n",
    "\n",
    "#### a. Determinación del número de términos para alcanzar una precisión deseada\n",
    "\n",
    "Utilice el hecho de que \\( \\tan\\left( \\frac{\\pi}{4} \\right) = 1 \\) para determinar el número \\( n \\) de términos de la serie que se necesita sumar para garantizar que:\n",
    "\n",
    "$$\n",
    "\\left| 4P_n(1) - \\pi \\right| < 10^{-3}\n",
    "$$\n",
    "\n"
   ]
  },
  {
   "cell_type": "code",
   "execution_count": 33,
   "metadata": {},
   "outputs": [
    {
     "name": "stdout",
     "output_type": "stream",
     "text": [
      "Número de términos necesarios para alcanzar la precisión de 10^-3: 1000\n"
     ]
    }
   ],
   "source": [
    "import math\n",
    "\n",
    "def maclaurin_arctan_approx(n):\n",
    "    suma = 0\n",
    "    for i in range(1, n + 1):\n",
    "        suma += (-1)**(i + 1) / (2 * i - 1)\n",
    "    return suma\n",
    "\n",
    "n_terms = 0\n",
    "precision = 0.001\n",
    "difference = 1\n",
    "\n",
    "while difference >= precision:\n",
    "    n_terms += 1\n",
    "    current_approximation = 4 * maclaurin_arctan_approx(n_terms)\n",
    "    difference = abs(current_approximation - math.pi)\n",
    "\n",
    "print(f\"Número de términos necesarios para alcanzar la precisión de 10^-3: {n_terms}\")\n"
   ]
  },
  {
   "cell_type": "markdown",
   "metadata": {},
   "source": [
    "##### b. El lenguaje de programación C++ requiere que el valor de $(\\pi)$ se encuentre dentro de $(10^{-6})$. ¿Cuántos términos de la serie se necesitarían sumar para obtener este grado de precisión?"
   ]
  },
  {
   "cell_type": "code",
   "execution_count": 34,
   "metadata": {},
   "outputs": [
    {
     "name": "stdout",
     "output_type": "stream",
     "text": [
      "Número de términos necesarios para alcanzar la precisión de 10^-6: 2000001\n"
     ]
    }
   ],
   "source": [
    "import math\n",
    "\n",
    "def calcular_pi(precision_deseada):\n",
    "    tolerancia = 0.5 * 10 ** (-precision_deseada)\n",
    "    suma = 0.0\n",
    "    n = 0\n",
    "    while True:\n",
    "        termino = (-1)**n / (2 * n + 1)\n",
    "        suma += termino\n",
    "        aproximacion = 4 * suma\n",
    "        error = abs(aproximacion - math.pi)\n",
    "        if error < tolerancia:\n",
    "            break\n",
    "        n += 1\n",
    "    return n + 1, aproximacion\n",
    "\n",
    "precision_deseada = 6\n",
    "n_terminos, aproximacion = calcular_pi(precision_deseada)\n",
    "print(f\"Número de términos necesarios para alcanzar la precisión de 10^-6: {n_terminos}\")\n"
   ]
  },
  {
   "cell_type": "markdown",
   "metadata": {},
   "source": [
    "### 3. Aproximación de $\\pi$ mediante otra identidad\n",
    "\n",
    "Otra fórmula para calcular $\\pi$ se puede deducir a partir de la siguiente identidad:\n",
    "\n",
    "$$\n",
    "\\frac{\\pi}{4} = 4\\arctan\\left(\\frac{1}{5}\\right) - \\arctan\\left(\\frac{1}{239}\\right)\n",
    "$$\n",
    "\n",
    "Determine el número de términos que se deben sumar para garantizar una aproximación de $\\pi$ con una precisión de $10^{-3}$.\n"
   ]
  },
  {
   "cell_type": "code",
   "execution_count": 35,
   "metadata": {},
   "outputs": [
    {
     "name": "stdout",
     "output_type": "stream",
     "text": [
      "Número de términos necesarios para obtener precisión de 10^-3: 2\n"
     ]
    }
   ],
   "source": [
    "def maclaurin_arctan(x, terms):\n",
    "    suma = 0\n",
    "    for i in range(terms):\n",
    "        termino = (-1)**i * (x**(2 * i + 1) / (2 * i + 1))\n",
    "        suma += termino\n",
    "    return suma\n",
    "\n",
    "def calculate_pi_from_identity(terms):\n",
    "    arctan_1_5 = maclaurin_arctan(1 / 5, terms)\n",
    "    arctan_1_239 = maclaurin_arctan(1 / 239, terms)\n",
    "    return 4 * (4 * arctan_1_5 - arctan_1_239)\n",
    "\n",
    "precision_threshold = 0.001\n",
    "terms_used = 0\n",
    "pi_approximation_error = 1\n",
    "\n",
    "while pi_approximation_error >= precision_threshold:\n",
    "    terms_used += 1\n",
    "    current_pi_value = calculate_pi_from_identity(terms_used)\n",
    "    pi_approximation_error = abs(current_pi_value - math.pi)\n",
    "\n",
    "print(\"Número de términos necesarios para obtener precisión de 10^-3:\", terms_used)\n"
   ]
  },
  {
   "cell_type": "markdown",
   "metadata": {},
   "source": [
    "### 5. Complejidad de la suma doble\n",
    "\n",
    "#### a. Número de operaciones necesarias\n",
    "\n",
    "¿Cuántas multiplicaciones y sumas se requieren para determinar una suma de la forma:\n",
    "\n",
    "$$\n",
    "\\sum_{i=1}^{n} \\sum_{j=1}^{i} (a_i b_j)\n",
    "$$\n"
   ]
  },
  {
   "cell_type": "code",
   "execution_count": 36,
   "metadata": {},
   "outputs": [
    {
     "name": "stdout",
     "output_type": "stream",
     "text": [
      "Para n=5, se realizan 15 multiplicaciones.\n"
     ]
    }
   ],
   "source": [
    "def count_multiplications(n):\n",
    "    total_multiplicaciones = 0\n",
    "    for i in range(1, n + 1):\n",
    "        total_multiplicaciones += i  # Sumar el número de multiplicaciones para cada i\n",
    "    return total_multiplicaciones\n",
    "\n",
    "# Usar la variable 'n' ya definida en el notebook\n",
    "multiplicaciones = count_multiplications(n)\n",
    "print(\"Para n={}, se realizan {} multiplicaciones.\".format(n, multiplicaciones))\n"
   ]
  },
  {
   "cell_type": "markdown",
   "metadata": {},
   "source": [
    "#### b. Modifique la suma en la parte a) a un formato equivalente que reduzca el número de cálculos. "
   ]
  },
  {
   "cell_type": "code",
   "execution_count": 37,
   "metadata": {},
   "outputs": [
    {
     "name": "stdout",
     "output_type": "stream",
     "text": [
      "Para n=5, se realizan 15 multiplicaciones y 10 sumas.\n"
     ]
    }
   ],
   "source": [
    "def count_operations(n):\n",
    "    total_multiplicaciones = sum(range(1, n + 1))  # Suma directa de 1 a n\n",
    "    total_sumas = sum(range(n))  # Suma directa de 0 a n-1\n",
    "    return total_multiplicaciones, total_sumas\n",
    "\n",
    "multiplicaciones, sumas = count_operations(n)\n",
    "print(f\"Para n={n}, se realizan {multiplicaciones} multiplicaciones y {sumas} sumas.\")\n"
   ]
  },
  {
   "cell_type": "markdown",
   "metadata": {},
   "source": [
    "### DISCUSIONES  "
   ]
  },
  {
   "cell_type": "markdown",
   "metadata": {},
   "source": [
    "### Algoritmo para el cálculo de las raíces de una ecuación cuadrática\n",
    "\n",
    "Las ecuaciones (1.2) y (1.3) en la sección 1.2 proporcionan formas alternativas para las raíces $x_1$ y $x_2$ de la ecuación:\n",
    "\n",
    "$$\n",
    "ax^2 + bx + c = 0\n",
    "$$\n",
    "\n",
    "Construya un algoritmo con entrada $a, b, c$ y salida $x_1, x_2$ que calcule las raíces $x_1$ y $x_2$ (que pueden ser reales, iguales, o conjugados complejos) utilizando la mejor fórmula para cada raíz.\n"
   ]
  },
  {
   "cell_type": "code",
   "execution_count": 38,
   "metadata": {},
   "outputs": [
    {
     "name": "stdout",
     "output_type": "stream",
     "text": [
      "Las raíces de la ecuación cuadrática son: x1 = 2.0, x2 = 1.0\n"
     ]
    }
   ],
   "source": [
    "import cmath\n",
    "\n",
    "def calcular_raices(a, b, c):\n",
    "    \"\"\"\n",
    "    Calcula las raíces de una ecuación cuadrática de la forma ax^2 + bx + c = 0.\n",
    "    Maneja raíces reales y complejas.\n",
    "\n",
    "    Args:\n",
    "        a (float): Coeficiente cuadrático.\n",
    "        b (float): Coeficiente lineal.\n",
    "        c (float): Término independiente.\n",
    "\n",
    "    Returns:\n",
    "        tuple: Raíces de la ecuación (x1, x2).\n",
    "    \"\"\"\n",
    "    discriminante = b**2 - 4 * a * c\n",
    "\n",
    "    if discriminante > 0:\n",
    "        # Raíces reales y distintas\n",
    "        raiz_discriminante = discriminante**0.5\n",
    "        if b > 0:\n",
    "            x1 = (-b - raiz_discriminante) / (2 * a)\n",
    "        else:\n",
    "            x1 = (-b + raiz_discriminante) / (2 * a)\n",
    "        x2 = c / (a * x1)\n",
    "    elif discriminante == 0:\n",
    "        # Raíces reales e iguales\n",
    "        x1 = x2 = -b / (2 * a)\n",
    "    else:\n",
    "        # Raíces complejas\n",
    "        raiz_discriminante = cmath.sqrt(discriminante)\n",
    "        x1 = (-b + raiz_discriminante) / (2 * a)\n",
    "        x2 = (-b - raiz_discriminante) / (2 * a)\n",
    "\n",
    "    return x1, x2\n",
    "\n",
    "# Las variables 'a', 'b', y 'c' ya están definidas en el notebook\n",
    "raiz1, raiz2 = calcular_raices(a, b, c)\n",
    "print(f\"Las raíces de la ecuación cuadrática son: x1 = {raiz1}, x2 = {raiz2}\")\n"
   ]
  },
  {
   "cell_type": "markdown",
   "metadata": {},
   "source": [
    "### 3. Determinación del número de términos para una aproximación precisa\n",
    "\n",
    "Suponga que:\n",
    "\n",
    "$$\n",
    "\\frac{1-2x}{1-x-x^{2}} + \\frac{2x-4x^{3}}{1-x^{2}-x^{4}} + \\frac{4x^{3}-8x^{7}}{1-x^{4}+x^{8}} + \\cdots = \\frac{1+2x}{1+x+x^{2}}\n",
    "$$\n",
    "\n",
    "para $x < 1$. Si $x = 0.25$, escriba y ejecute un algoritmo que determine el número de términos necesarios en el lado izquierdo de la ecuación tal que el lado izquierdo difiera del lado derecho en menos de $10^{-6}$.\n"
   ]
  },
  {
   "cell_type": "code",
   "execution_count": 39,
   "metadata": {},
   "outputs": [
    {
     "name": "stdout",
     "output_type": "stream",
     "text": [
      "Número de términos necesarios: 4\n",
      "Suma de la serie (lado izquierdo) con 4 términos: 1.1428571279559818\n",
      "Valor del lado derecho: 1.1428571428571428\n",
      "Diferencia: 1.4901160971803051e-08\n"
     ]
    }
   ],
   "source": [
    "def calcular_lado_derecho(x):\n",
    "    \"\"\"\n",
    "    Calcula el valor del lado derecho de la ecuación.\n",
    "\n",
    "    Args:\n",
    "        x (float): Valor de x.\n",
    "\n",
    "    Returns:\n",
    "        float: Resultado del lado derecho.\n",
    "    \"\"\"\n",
    "    return (1 + 2 * x) / (1 + x + x**2)\n",
    "\n",
    "def calcular_serie(x, tolerancia):\n",
    "    \"\"\"\n",
    "    Calcula el número de términos necesarios para que la suma de la serie\n",
    "    en el lado izquierdo se aproxime al valor del lado derecho con una\n",
    "    tolerancia dada.\n",
    "\n",
    "    Args:\n",
    "        x (float): Valor de x.\n",
    "        tolerancia (float): Tolerancia deseada para la aproximación.\n",
    "\n",
    "    Returns:\n",
    "        tuple: Número de términos, suma del lado izquierdo y valor del lado derecho.\n",
    "    \"\"\"\n",
    "    suma = 0.0\n",
    "    n = 1\n",
    "    valor_derecho = calcular_lado_derecho(x)\n",
    "\n",
    "    # Variables auxiliares para calcular los términos de la serie\n",
    "    A = 1  # Coeficiente inicial\n",
    "    y = x\n",
    "    x_inv = 1 / x\n",
    "\n",
    "    while True:\n",
    "        # Cálculo del término actual de la serie\n",
    "        numerador = A * (y * x_inv) * (1 - 2 * y)\n",
    "        denominador = 1 - y + y**2\n",
    "        termino = numerador / denominador\n",
    "\n",
    "        # Actualización de la suma y cálculo del error\n",
    "        suma += termino\n",
    "        error = abs(suma - valor_derecho)\n",
    "\n",
    "        # Verificación de criterios de parada\n",
    "        if error < tolerancia or abs(termino) < tolerancia:\n",
    "            break\n",
    "\n",
    "        # Actualización de variables para el siguiente término\n",
    "        A *= 2\n",
    "        y **= 2\n",
    "        n += 1\n",
    "\n",
    "    return n, suma, valor_derecho\n",
    "\n",
    "# Parámetros de entrada\n",
    "tolerancia = 1e-6\n",
    "\n",
    "# Cálculo de la serie\n",
    "n_terminos, suma_izquierda, valor_derecho = calcular_serie(x, tolerancia)\n",
    "\n",
    "# Resultados\n",
    "print(f\"Número de términos necesarios: {n_terminos}\")\n",
    "print(f\"Suma de la serie (lado izquierdo) con {n_terminos} términos: {suma_izquierda}\")\n",
    "print(f\"Valor del lado derecho: {valor_derecho}\")\n",
    "print(f\"Diferencia: {abs(suma_izquierda - valor_derecho)}\")\n"
   ]
  },
  {
   "cell_type": "markdown",
   "metadata": {},
   "source": [
    "\n",
    "\n",
    "### Link de repositorio de GitHub\n",
    "https://github.com/Francis1918/DeberesMetodosNumericos.git\n",
    "\n"
   ]
  }
 ],
 "metadata": {
  "kernelspec": {
   "display_name": "Python 3 (ipykernel)",
   "language": "python",
   "name": "python3"
  },
  "language_info": {
   "codemirror_mode": {
    "name": "ipython",
    "version": 3
   },
   "file_extension": ".py",
   "mimetype": "text/x-python",
   "name": "python",
   "nbconvert_exporter": "python",
   "pygments_lexer": "ipython3",
   "version": "3.12.7"
  }
 },
 "nbformat": 4,
 "nbformat_minor": 4
}
